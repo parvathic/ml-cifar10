{
 "cells": [
  {
   "cell_type": "code",
   "execution_count": 0,
   "metadata": {
    "colab": {},
    "colab_type": "code",
    "id": "0GgF9qlcSq0_"
   },
   "outputs": [],
   "source": [
    "import numpy as np\n",
    "import pickle\n",
    "import os\n",
    "import numpy as np\n",
    "import matplotlib.pyplot as plt\n",
    "%matplotlib inline"
   ]
  },
  {
   "cell_type": "code",
   "execution_count": 0,
   "metadata": {
    "colab": {},
    "colab_type": "code",
    "id": "092BQuOXSr2D"
   },
   "outputs": [],
   "source": [
    "def unpickle(file):\n",
    " '''Load byte data from file'''\n",
    " with open(file, 'rb') as f:\n",
    "  data = pickle.load(f, encoding='latin-1')\n",
    "  return data"
   ]
  },
  {
   "cell_type": "code",
   "execution_count": 4,
   "metadata": {
    "colab": {
     "base_uri": "https://localhost:8080/",
     "height": 70
    },
    "colab_type": "code",
    "id": "mhUkTUKFSvkV",
    "outputId": "87e50f36-3dda-4d29-eebf-7a938f892f6b"
   },
   "outputs": [
    {
     "name": "stderr",
     "output_type": "stream",
     "text": [
      "Using TensorFlow backend.\n"
     ]
    },
    {
     "name": "stdout",
     "output_type": "stream",
     "text": [
      "Downloading data from https://www.cs.toronto.edu/~kriz/cifar-10-python.tar.gz\n",
      "170500096/170498071 [==============================] - 54s 0us/step\n"
     ]
    }
   ],
   "source": [
    "from keras.datasets import cifar10\n",
    "(X_train, Y_train), (X_test, Y_test) = cifar10.load_data()"
   ]
  },
  {
   "cell_type": "code",
   "execution_count": 5,
   "metadata": {
    "colab": {
     "base_uri": "https://localhost:8080/",
     "height": 87
    },
    "colab_type": "code",
    "id": "4evOvjYtSxIx",
    "outputId": "146236a9-b9eb-4540-a61e-1ec4c2fff585"
   },
   "outputs": [
    {
     "name": "stdout",
     "output_type": "stream",
     "text": [
      "X_train shape: (50000, 32, 32, 3)\n",
      "y_train shape: (50000, 1)\n",
      "X_test shape: (10000, 32, 32, 3)\n",
      "y_test shape: (10000, 1)\n"
     ]
    }
   ],
   "source": [
    "print('X_train shape:', X_train.shape)\n",
    "print('y_train shape:', Y_train.shape)\n",
    "print('X_test shape:', X_test.shape)\n",
    "print('y_test shape:', Y_test.shape)"
   ]
  },
  {
   "cell_type": "code",
   "execution_count": 0,
   "metadata": {
    "colab": {},
    "colab_type": "code",
    "id": "fkiZl_mgS982"
   },
   "outputs": [],
   "source": [
    "X_train_unshuf_unscaled = X_train"
   ]
  },
  {
   "cell_type": "code",
   "execution_count": 7,
   "metadata": {
    "colab": {
     "base_uri": "https://localhost:8080/",
     "height": 141
    },
    "colab_type": "code",
    "id": "zvO5n63US_Hl",
    "outputId": "833bface-4847-44df-9143-0eb7741dce11"
   },
   "outputs": [
    {
     "data": {
      "text/plain": [
       "array([[ 59,  62,  63, ..., 123,  92,  72],\n",
       "       [154, 177, 187, ..., 143, 133, 144],\n",
       "       [255, 255, 255, ...,  80,  86,  84],\n",
       "       ...,\n",
       "       [ 35, 178, 235, ...,  12,  31,  50],\n",
       "       [189, 211, 240, ..., 195, 190, 171],\n",
       "       [229, 229, 239, ..., 163, 163, 161]], dtype=uint8)"
      ]
     },
     "execution_count": 7,
     "metadata": {
      "tags": []
     },
     "output_type": "execute_result"
    }
   ],
   "source": [
    "X_train_unshuf_reshaped_unscaled=X_train_unshuf_unscaled.reshape(50000,32*3*32)\n",
    "X_train_unshuf_reshaped_unscaled"
   ]
  },
  {
   "cell_type": "code",
   "execution_count": 0,
   "metadata": {
    "colab": {},
    "colab_type": "code",
    "id": "fQG0CWENTA7D"
   },
   "outputs": [],
   "source": [
    "from sklearn.model_selection import train_test_split\n",
    "X_train, X_val, y_train, y_val  = train_test_split(X_train_unshuf_reshaped_unscaled, Y_train, test_size = 1/10, random_state = 42)"
   ]
  },
  {
   "cell_type": "code",
   "execution_count": 0,
   "metadata": {
    "colab": {},
    "colab_type": "code",
    "id": "62ICKZBXTC9u"
   },
   "outputs": [],
   "source": [
    "from sklearn.preprocessing import StandardScaler\n",
    "scaler = StandardScaler()\n",
    "X_train_s = scaler.fit_transform(X_train.astype(np.float32))"
   ]
  },
  {
   "cell_type": "code",
   "execution_count": 0,
   "metadata": {
    "colab": {},
    "colab_type": "code",
    "id": "5QwyVeZ0TGST"
   },
   "outputs": [],
   "source": [
    "X_val_s = scaler.fit_transform(X_val.astype(np.float32))\n",
    "y_train = y_train.astype(np.int32)"
   ]
  },
  {
   "cell_type": "code",
   "execution_count": 0,
   "metadata": {
    "colab": {},
    "colab_type": "code",
    "id": "_L1qeGQfTeth"
   },
   "outputs": [],
   "source": [
    "import tensorflow as tf"
   ]
  },
  {
   "cell_type": "code",
   "execution_count": 0,
   "metadata": {
    "colab": {},
    "colab_type": "code",
    "id": "663qTVsoTHtW"
   },
   "outputs": [],
   "source": []
  },
  {
   "cell_type": "code",
   "execution_count": 0,
   "metadata": {
    "colab": {},
    "colab_type": "code",
    "id": "BMHsNLB2GpgP"
   },
   "outputs": [],
   "source": [
    "from sklearn.metrics import accuracy_score"
   ]
  },
  {
   "cell_type": "code",
   "execution_count": 13,
   "metadata": {
    "colab": {
     "base_uri": "https://localhost:8080/",
     "height": 3183
    },
    "colab_type": "code",
    "id": "ZVFSR7XRTRBg",
    "outputId": "6742d218-b7a9-43ed-8bc4-447c4503650a"
   },
   "outputs": [
    {
     "name": "stdout",
     "output_type": "stream",
     "text": [
      "WARNING:tensorflow:From <ipython-input-13-8aef28796798>:8: RunConfig.__init__ (from tensorflow.contrib.learn.python.learn.estimators.run_config) is deprecated and will be removed in a future version.\n",
      "Instructions for updating:\n",
      "When switching to tf.estimator.Estimator, use tf.estimator.RunConfig instead.\n",
      "WARNING:tensorflow:From <ipython-input-13-8aef28796798>:9: infer_real_valued_columns_from_input (from tensorflow.contrib.learn.python.learn.estimators.estimator) is deprecated and will be removed in a future version.\n",
      "Instructions for updating:\n",
      "Please specify feature columns explicitly.\n",
      "WARNING:tensorflow:From /usr/local/lib/python3.6/dist-packages/tensorflow/contrib/learn/python/learn/estimators/estimator.py:143: setup_train_data_feeder (from tensorflow.contrib.learn.python.learn.learn_io.data_feeder) is deprecated and will be removed in a future version.\n",
      "Instructions for updating:\n",
      "Please use tensorflow/transform or tf.data.\n",
      "WARNING:tensorflow:From /usr/local/lib/python3.6/dist-packages/tensorflow/contrib/learn/python/learn/learn_io/data_feeder.py:100: extract_pandas_data (from tensorflow.contrib.learn.python.learn.learn_io.pandas_io) is deprecated and will be removed in a future version.\n",
      "Instructions for updating:\n",
      "Please access pandas data directly.\n",
      "WARNING:tensorflow:From /usr/local/lib/python3.6/dist-packages/tensorflow/contrib/learn/python/learn/learn_io/data_feeder.py:159: DataFeeder.__init__ (from tensorflow.contrib.learn.python.learn.learn_io.data_feeder) is deprecated and will be removed in a future version.\n",
      "Instructions for updating:\n",
      "Please use tensorflow/transform or tf.data.\n",
      "WARNING:tensorflow:From /usr/local/lib/python3.6/dist-packages/tensorflow/contrib/learn/python/learn/learn_io/data_feeder.py:340: check_array (from tensorflow.contrib.learn.python.learn.learn_io.data_feeder) is deprecated and will be removed in a future version.\n",
      "Instructions for updating:\n",
      "Please convert numpy dtypes explicitly.\n",
      "WARNING:tensorflow:From /usr/local/lib/python3.6/dist-packages/tensorflow/contrib/learn/python/learn/estimators/estimator.py:183: infer_real_valued_columns_from_input_fn (from tensorflow.contrib.learn.python.learn.estimators.estimator) is deprecated and will be removed in a future version.\n",
      "Instructions for updating:\n",
      "Please specify feature columns explicitly.\n",
      "WARNING:tensorflow:From /usr/local/lib/python3.6/dist-packages/tensorflow/contrib/learn/python/learn/estimators/dnn.py:378: multi_class_head (from tensorflow.contrib.learn.python.learn.estimators.head) is deprecated and will be removed in a future version.\n",
      "Instructions for updating:\n",
      "Please switch to tf.contrib.estimator.*_head.\n",
      "WARNING:tensorflow:From /usr/local/lib/python3.6/dist-packages/tensorflow/contrib/learn/python/learn/estimators/estimator.py:1180: BaseEstimator.__init__ (from tensorflow.contrib.learn.python.learn.estimators.estimator) is deprecated and will be removed in a future version.\n",
      "Instructions for updating:\n",
      "Please replace uses of any Estimator from tf.contrib.learn with an Estimator from tf.estimator.*\n",
      "WARNING:tensorflow:Using temporary folder as model directory: /tmp/tmpuji2wpq6\n",
      "INFO:tensorflow:Using config: {'_task_type': None, '_task_id': 0, '_cluster_spec': <tensorflow.python.training.server_lib.ClusterSpec object at 0x7f46ac89d8d0>, '_master': '', '_num_ps_replicas': 0, '_num_worker_replicas': 0, '_environment': 'local', '_is_chief': True, '_evaluation_master': '', '_train_distribute': None, '_eval_distribute': None, '_device_fn': None, '_tf_config': gpu_options {\n",
      "  per_process_gpu_memory_fraction: 1.0\n",
      "}\n",
      ", '_tf_random_seed': 42, '_save_summary_steps': 100, '_save_checkpoints_secs': 600, '_log_step_count_steps': 100, '_protocol': None, '_session_config': None, '_save_checkpoints_steps': None, '_keep_checkpoint_max': 5, '_keep_checkpoint_every_n_hours': 10000, '_model_dir': '/tmp/tmpuji2wpq6'}\n",
      "WARNING:tensorflow:From <ipython-input-13-8aef28796798>:12: SKCompat.__init__ (from tensorflow.contrib.learn.python.learn.estimators.estimator) is deprecated and will be removed in a future version.\n",
      "Instructions for updating:\n",
      "Please switch to the Estimator interface.\n",
      "WARNING:tensorflow:From /usr/local/lib/python3.6/dist-packages/tensorflow/contrib/learn/python/learn/learn_io/data_feeder.py:102: extract_pandas_labels (from tensorflow.contrib.learn.python.learn.learn_io.pandas_io) is deprecated and will be removed in a future version.\n",
      "Instructions for updating:\n",
      "Please access pandas data directly.\n",
      "WARNING:tensorflow:From /usr/local/lib/python3.6/dist-packages/tensorflow/contrib/learn/python/learn/estimators/head.py:678: ModelFnOps.__new__ (from tensorflow.contrib.learn.python.learn.estimators.model_fn) is deprecated and will be removed in a future version.\n",
      "Instructions for updating:\n",
      "When switching to tf.estimator.Estimator, use tf.estimator.EstimatorSpec. You can use the `estimator_spec` method to create an equivalent one.\n",
      "INFO:tensorflow:Create CheckpointSaverHook.\n",
      "INFO:tensorflow:Graph was finalized.\n",
      "INFO:tensorflow:Running local_init_op.\n",
      "INFO:tensorflow:Done running local_init_op.\n",
      "INFO:tensorflow:Saving checkpoints for 0 into /tmp/tmpuji2wpq6/model.ckpt.\n",
      "INFO:tensorflow:loss = 2.5035996, step = 0\n",
      "INFO:tensorflow:global_step/sec: 17.8248\n",
      "INFO:tensorflow:loss = 1.6939393, step = 100 (5.616 sec)\n",
      "INFO:tensorflow:global_step/sec: 18.5177\n",
      "INFO:tensorflow:loss = 1.4080186, step = 200 (5.398 sec)\n",
      "INFO:tensorflow:global_step/sec: 18.4609\n",
      "INFO:tensorflow:loss = 1.3277012, step = 300 (5.417 sec)\n",
      "INFO:tensorflow:global_step/sec: 18.4196\n",
      "INFO:tensorflow:loss = 1.2313081, step = 400 (5.427 sec)\n",
      "INFO:tensorflow:global_step/sec: 18.4633\n",
      "INFO:tensorflow:loss = 1.128275, step = 500 (5.416 sec)\n",
      "INFO:tensorflow:global_step/sec: 18.3179\n",
      "INFO:tensorflow:loss = 1.2446337, step = 600 (5.459 sec)\n",
      "INFO:tensorflow:global_step/sec: 18.2767\n",
      "INFO:tensorflow:loss = 1.0112275, step = 700 (5.472 sec)\n",
      "INFO:tensorflow:global_step/sec: 18.281\n",
      "INFO:tensorflow:loss = 1.0856857, step = 800 (5.474 sec)\n",
      "INFO:tensorflow:global_step/sec: 18.2049\n",
      "INFO:tensorflow:loss = 0.7718378, step = 900 (5.490 sec)\n",
      "INFO:tensorflow:global_step/sec: 18.1901\n",
      "INFO:tensorflow:loss = 0.8405666, step = 1000 (5.498 sec)\n",
      "INFO:tensorflow:global_step/sec: 18.1265\n",
      "INFO:tensorflow:loss = 0.8868468, step = 1100 (5.516 sec)\n",
      "INFO:tensorflow:global_step/sec: 18.0685\n",
      "INFO:tensorflow:loss = 0.53445756, step = 1200 (5.539 sec)\n",
      "INFO:tensorflow:global_step/sec: 18.043\n",
      "INFO:tensorflow:loss = 0.64658713, step = 1300 (5.538 sec)\n",
      "INFO:tensorflow:global_step/sec: 18.0289\n",
      "INFO:tensorflow:loss = 0.6010679, step = 1400 (5.546 sec)\n",
      "INFO:tensorflow:global_step/sec: 18.035\n",
      "INFO:tensorflow:loss = 0.5680288, step = 1500 (5.547 sec)\n",
      "INFO:tensorflow:global_step/sec: 17.9751\n",
      "INFO:tensorflow:loss = 0.37337357, step = 1600 (5.564 sec)\n",
      "INFO:tensorflow:global_step/sec: 18.0603\n",
      "INFO:tensorflow:loss = 0.4508829, step = 1700 (5.534 sec)\n",
      "INFO:tensorflow:global_step/sec: 18.0073\n",
      "INFO:tensorflow:loss = 0.32845443, step = 1800 (5.557 sec)\n",
      "INFO:tensorflow:global_step/sec: 17.9972\n",
      "INFO:tensorflow:loss = 0.3586631, step = 1900 (5.556 sec)\n",
      "INFO:tensorflow:global_step/sec: 18.0451\n",
      "INFO:tensorflow:loss = 0.35013556, step = 2000 (5.538 sec)\n",
      "INFO:tensorflow:global_step/sec: 17.9933\n",
      "INFO:tensorflow:loss = 0.17280918, step = 2100 (5.561 sec)\n",
      "INFO:tensorflow:global_step/sec: 17.9502\n",
      "INFO:tensorflow:loss = 0.36445525, step = 2200 (5.575 sec)\n",
      "INFO:tensorflow:global_step/sec: 17.9848\n",
      "INFO:tensorflow:loss = 0.11067366, step = 2300 (5.552 sec)\n",
      "INFO:tensorflow:global_step/sec: 17.9984\n",
      "INFO:tensorflow:loss = 0.090699784, step = 2400 (5.556 sec)\n",
      "INFO:tensorflow:global_step/sec: 18.0626\n",
      "INFO:tensorflow:loss = 0.06278876, step = 2500 (5.541 sec)\n",
      "INFO:tensorflow:global_step/sec: 17.9525\n",
      "INFO:tensorflow:loss = 0.075759016, step = 2600 (5.570 sec)\n",
      "INFO:tensorflow:global_step/sec: 18.0033\n",
      "INFO:tensorflow:loss = 0.5999533, step = 2700 (5.551 sec)\n",
      "INFO:tensorflow:global_step/sec: 17.9991\n",
      "INFO:tensorflow:loss = 0.042992126, step = 2800 (5.558 sec)\n",
      "INFO:tensorflow:global_step/sec: 17.971\n",
      "INFO:tensorflow:loss = 0.09748988, step = 2900 (5.572 sec)\n",
      "INFO:tensorflow:global_step/sec: 17.9613\n",
      "INFO:tensorflow:loss = 0.023579352, step = 3000 (5.561 sec)\n",
      "INFO:tensorflow:global_step/sec: 17.9556\n",
      "INFO:tensorflow:loss = 0.030720463, step = 3100 (5.569 sec)\n",
      "INFO:tensorflow:global_step/sec: 17.9428\n",
      "INFO:tensorflow:loss = 0.013843921, step = 3200 (5.569 sec)\n",
      "INFO:tensorflow:global_step/sec: 18.0006\n",
      "INFO:tensorflow:loss = 0.011006426, step = 3300 (5.556 sec)\n",
      "INFO:tensorflow:global_step/sec: 17.9529\n",
      "INFO:tensorflow:loss = 0.012870647, step = 3400 (5.571 sec)\n",
      "INFO:tensorflow:global_step/sec: 17.9559\n",
      "INFO:tensorflow:loss = 0.009481016, step = 3500 (5.568 sec)\n",
      "INFO:tensorflow:global_step/sec: 17.9866\n",
      "INFO:tensorflow:loss = 0.0071053617, step = 3600 (5.560 sec)\n",
      "INFO:tensorflow:global_step/sec: 17.9309\n",
      "INFO:tensorflow:loss = 0.011588283, step = 3700 (5.577 sec)\n",
      "INFO:tensorflow:global_step/sec: 17.929\n",
      "INFO:tensorflow:loss = 0.008153492, step = 3800 (5.577 sec)\n",
      "INFO:tensorflow:global_step/sec: 17.9644\n",
      "INFO:tensorflow:loss = 0.008045183, step = 3900 (5.570 sec)\n",
      "INFO:tensorflow:global_step/sec: 17.9253\n",
      "INFO:tensorflow:loss = 0.007727896, step = 4000 (5.581 sec)\n",
      "INFO:tensorflow:global_step/sec: 17.9764\n",
      "INFO:tensorflow:loss = 0.005720447, step = 4100 (5.563 sec)\n",
      "INFO:tensorflow:global_step/sec: 17.9256\n",
      "INFO:tensorflow:loss = 0.0058375048, step = 4200 (5.574 sec)\n",
      "INFO:tensorflow:global_step/sec: 17.9343\n",
      "INFO:tensorflow:loss = 0.005596304, step = 4300 (5.576 sec)\n",
      "INFO:tensorflow:global_step/sec: 17.9405\n",
      "INFO:tensorflow:loss = 0.0061704013, step = 4400 (5.575 sec)\n",
      "INFO:tensorflow:global_step/sec: 17.8947\n",
      "INFO:tensorflow:loss = 0.0040693916, step = 4500 (5.591 sec)\n",
      "INFO:tensorflow:global_step/sec: 17.911\n",
      "INFO:tensorflow:loss = 0.0036383888, step = 4600 (5.581 sec)\n",
      "INFO:tensorflow:global_step/sec: 17.9193\n",
      "INFO:tensorflow:loss = 0.0043637776, step = 4700 (5.578 sec)\n",
      "INFO:tensorflow:global_step/sec: 17.8622\n",
      "INFO:tensorflow:loss = 0.0035322257, step = 4800 (5.602 sec)\n",
      "INFO:tensorflow:global_step/sec: 17.9069\n",
      "INFO:tensorflow:loss = 0.0038577018, step = 4900 (5.580 sec)\n",
      "INFO:tensorflow:global_step/sec: 17.9214\n",
      "INFO:tensorflow:loss = 0.0034909167, step = 5000 (5.580 sec)\n",
      "INFO:tensorflow:global_step/sec: 17.9257\n",
      "INFO:tensorflow:loss = 0.0033573725, step = 5100 (5.583 sec)\n",
      "INFO:tensorflow:global_step/sec: 17.9109\n",
      "INFO:tensorflow:loss = 0.004015495, step = 5200 (5.584 sec)\n",
      "INFO:tensorflow:global_step/sec: 17.9301\n",
      "INFO:tensorflow:loss = 0.0033268272, step = 5300 (5.576 sec)\n",
      "INFO:tensorflow:global_step/sec: 17.8041\n",
      "INFO:tensorflow:loss = 0.0025187398, step = 5400 (5.620 sec)\n",
      "INFO:tensorflow:Saving checkpoints for 5500 into /tmp/tmpuji2wpq6/model.ckpt.\n",
      "INFO:tensorflow:Loss for final step: 0.0030735573.\n",
      "dnn_1_clf training time 314.409774\n",
      "INFO:tensorflow:Graph was finalized.\n",
      "INFO:tensorflow:Restoring parameters from /tmp/tmpuji2wpq6/model.ckpt-5500\n",
      "INFO:tensorflow:Running local_init_op.\n",
      "INFO:tensorflow:Done running local_init_op.\n",
      "<class 'dict'>\n",
      "INFO:tensorflow:Graph was finalized.\n",
      "INFO:tensorflow:Restoring parameters from /tmp/tmpuji2wpq6/model.ckpt-5500\n",
      "INFO:tensorflow:Running local_init_op.\n",
      "INFO:tensorflow:Done running local_init_op.\n",
      "Train error, Val_error 0.0 / 0.4134\n",
      "Train_size:  [50000]\n",
      "Train_error:  [0.0]\n",
      "Val_error:  [0.4134]\n",
      "Train_time:  314.409774\n",
      "Val_time:  0.751725\n",
      "Validation error 0.4134\n",
      "Train error 0.0\n",
      "Val Accuracy 0.5866\n",
      "Train Accuracy 1.0\n"
     ]
    }
   ],
   "source": [
    "#learning curve\n",
    "\n",
    "Train_size_list_10epfix = [50000]\n",
    "Train_error_list_10epfix = []\n",
    "Val_error_list_10epfix = []\n",
    "Train_time_list_10epfix = []\n",
    "Val_time_list_10epfix = []\n",
    "\n",
    "config = tf.contrib.learn.RunConfig(tf_random_seed=42) \n",
    "feature_columns = tf.contrib.learn.infer_real_valued_columns_from_input(X_train_s)\n",
    "    \n",
    "dnn_1_clf = tf.contrib.learn.DNNClassifier(activation_fn=tf.nn.relu, hidden_units=[7000,6000], n_classes=10, feature_columns=feature_columns, config=config)\n",
    "dnn_1_clf = tf.contrib.learn.SKCompat(dnn_1_clf) #### to be compatible with sklearn\n",
    "    \n",
    "\n",
    "from datetime import datetime\n",
    "start=datetime.now()\n",
    "dnn_1_clf.fit(X_train_s, y_train, batch_size=200, steps=(5*1100))\n",
    "Train_elapse = (datetime.now()-start).total_seconds()\n",
    "print('dnn_1_clf training time', Train_elapse)\n",
    "    \n",
    "y_train_pred = dnn_1_clf.predict(X_train_s) #return dictionary\n",
    "Train_error = 1 - accuracy_score(y_train, y_train_pred['classes'])\n",
    "\n",
    "    \n",
    "print(type(y_train_pred))\n",
    "\n",
    "start=datetime.now()\n",
    "y_val_pred =  dnn_1_clf.predict(X_val_s)\n",
    "    \n",
    "Val_elapse = (datetime.now()-start).total_seconds()\n",
    "\n",
    "Val_time_list_10epfix.append(Val_elapse)\n",
    "Val_error = 1 - accuracy_score(y_val, y_val_pred['classes'])\n",
    "      \n",
    "    \n",
    "print('Train error, Val_error',  Train_error, '/', Val_error)\n",
    "                                   \n",
    "Train_error_list_10epfix.append(Train_error)\n",
    "Val_error_list_10epfix.append(Val_error)\n",
    "    \n",
    "print(\"Train_size: \", Train_size_list_10epfix)\n",
    "print(\"Train_error: \", Train_error_list_10epfix)\n",
    "print(\"Val_error: \", Val_error_list_10epfix)\n",
    "print(\"Train_time: \", Train_elapse)\n",
    "print(\"Val_time: \", Val_elapse)  \n",
    "\n",
    "valaccuracy = accuracy_score(y_val, y_val_pred['classes'])\n",
    "trainaccuracy = accuracy_score(y_train, y_train_pred['classes'])\n",
    "print('Validation error', Val_error)\n",
    "print('Train error', Train_error)\n",
    "print('Val Accuracy', valaccuracy)\n",
    "print('Train Accuracy', trainaccuracy)"
   ]
  },
  {
   "cell_type": "markdown",
   "metadata": {
    "colab_type": "text",
    "id": "O2u7wBdrd0vD"
   },
   "source": [
    "\n",
    "\n",
    "```\n",
    "BEST NEURON SIZE = [7000,6000]\n",
    "ACTIVATION FUNCTION = RELU\n",
    "VAL ERROR = 0.4134\n",
    "VAL ACCURACY = 0.5866\n",
    "TRAIN ACCURACY = 1\n",
    "```\n",
    "\n"
   ]
  },
  {
   "cell_type": "markdown",
   "metadata": {
    "colab_type": "text",
    "id": "v-FVP53MhweT"
   },
   "source": [
    "**FIXING THE VALUES AND FITTING IT TO THE MODEL**"
   ]
  },
  {
   "cell_type": "code",
   "execution_count": 14,
   "metadata": {
    "colab": {
     "base_uri": "https://localhost:8080/",
     "height": 4178
    },
    "colab_type": "code",
    "id": "vPPs21TZTret",
    "outputId": "2b6964ba-7336-4c50-ae51-0fefc28372cc"
   },
   "outputs": [
    {
     "name": "stdout",
     "output_type": "stream",
     "text": [
      "WARNING:tensorflow:Using temporary folder as model directory: /tmp/tmpdjjbzlde\n",
      "INFO:tensorflow:Using config: {'_task_type': None, '_task_id': 0, '_cluster_spec': <tensorflow.python.training.server_lib.ClusterSpec object at 0x7f46b1cc4828>, '_master': '', '_num_ps_replicas': 0, '_num_worker_replicas': 0, '_environment': 'local', '_is_chief': True, '_evaluation_master': '', '_train_distribute': None, '_eval_distribute': None, '_device_fn': None, '_tf_config': gpu_options {\n",
      "  per_process_gpu_memory_fraction: 1.0\n",
      "}\n",
      ", '_tf_random_seed': 42, '_save_summary_steps': 100, '_save_checkpoints_secs': 600, '_log_step_count_steps': 100, '_protocol': None, '_session_config': None, '_save_checkpoints_steps': None, '_keep_checkpoint_max': 5, '_keep_checkpoint_every_n_hours': 10000, '_model_dir': '/tmp/tmpdjjbzlde'}\n",
      "INFO:tensorflow:Create CheckpointSaverHook.\n",
      "INFO:tensorflow:Graph was finalized.\n",
      "INFO:tensorflow:Running local_init_op.\n",
      "INFO:tensorflow:Done running local_init_op.\n",
      "INFO:tensorflow:Saving checkpoints for 0 into /tmp/tmpdjjbzlde/model.ckpt.\n",
      "INFO:tensorflow:loss = 2.5035996, step = 0\n",
      "INFO:tensorflow:global_step/sec: 17.6086\n",
      "INFO:tensorflow:loss = 1.6939393, step = 100 (5.684 sec)\n",
      "INFO:tensorflow:global_step/sec: 18.1394\n",
      "INFO:tensorflow:loss = 1.4080186, step = 200 (5.510 sec)\n",
      "INFO:tensorflow:global_step/sec: 18.0642\n",
      "INFO:tensorflow:loss = 1.3277012, step = 300 (5.539 sec)\n",
      "INFO:tensorflow:global_step/sec: 18.0553\n",
      "INFO:tensorflow:loss = 1.2313081, step = 400 (5.535 sec)\n",
      "INFO:tensorflow:global_step/sec: 18.0736\n",
      "INFO:tensorflow:loss = 1.128275, step = 500 (5.535 sec)\n",
      "INFO:tensorflow:global_step/sec: 18.0158\n",
      "INFO:tensorflow:loss = 1.2446337, step = 600 (5.551 sec)\n",
      "INFO:tensorflow:global_step/sec: 17.9659\n",
      "INFO:tensorflow:loss = 1.0112275, step = 700 (5.565 sec)\n",
      "INFO:tensorflow:global_step/sec: 17.8982\n",
      "INFO:tensorflow:loss = 1.0856857, step = 800 (5.586 sec)\n",
      "INFO:tensorflow:global_step/sec: 17.9316\n",
      "INFO:tensorflow:loss = 0.7718378, step = 900 (5.579 sec)\n",
      "INFO:tensorflow:global_step/sec: 17.9348\n",
      "INFO:tensorflow:loss = 0.8405666, step = 1000 (5.573 sec)\n",
      "INFO:tensorflow:global_step/sec: 17.915\n",
      "INFO:tensorflow:loss = 0.8868468, step = 1100 (5.584 sec)\n",
      "INFO:tensorflow:global_step/sec: 17.9136\n",
      "INFO:tensorflow:loss = 0.53445756, step = 1200 (5.583 sec)\n",
      "INFO:tensorflow:global_step/sec: 17.9268\n",
      "INFO:tensorflow:loss = 0.64658713, step = 1300 (5.578 sec)\n",
      "INFO:tensorflow:global_step/sec: 17.927\n",
      "INFO:tensorflow:loss = 0.6010679, step = 1400 (5.576 sec)\n",
      "INFO:tensorflow:global_step/sec: 17.9261\n",
      "INFO:tensorflow:loss = 0.5680288, step = 1500 (5.581 sec)\n",
      "INFO:tensorflow:global_step/sec: 17.9389\n",
      "INFO:tensorflow:loss = 0.37337357, step = 1600 (5.577 sec)\n",
      "INFO:tensorflow:global_step/sec: 17.9332\n",
      "INFO:tensorflow:loss = 0.4508829, step = 1700 (5.570 sec)\n",
      "INFO:tensorflow:global_step/sec: 17.9076\n",
      "INFO:tensorflow:loss = 0.32845443, step = 1800 (5.589 sec)\n",
      "INFO:tensorflow:global_step/sec: 17.9101\n",
      "INFO:tensorflow:loss = 0.3586631, step = 1900 (5.581 sec)\n",
      "INFO:tensorflow:global_step/sec: 17.949\n",
      "INFO:tensorflow:loss = 0.35013556, step = 2000 (5.573 sec)\n",
      "INFO:tensorflow:global_step/sec: 17.9133\n",
      "INFO:tensorflow:loss = 0.17280918, step = 2100 (5.581 sec)\n",
      "INFO:tensorflow:global_step/sec: 17.8773\n",
      "INFO:tensorflow:loss = 0.36445525, step = 2200 (5.595 sec)\n",
      "INFO:tensorflow:global_step/sec: 17.8743\n",
      "INFO:tensorflow:loss = 0.11067366, step = 2300 (5.594 sec)\n",
      "INFO:tensorflow:global_step/sec: 17.9238\n",
      "INFO:tensorflow:loss = 0.090699784, step = 2400 (5.577 sec)\n",
      "INFO:tensorflow:global_step/sec: 17.93\n",
      "INFO:tensorflow:loss = 0.06278876, step = 2500 (5.578 sec)\n",
      "INFO:tensorflow:global_step/sec: 17.9372\n",
      "INFO:tensorflow:loss = 0.075759016, step = 2600 (5.578 sec)\n",
      "INFO:tensorflow:global_step/sec: 17.8777\n",
      "INFO:tensorflow:loss = 0.5999533, step = 2700 (5.595 sec)\n",
      "INFO:tensorflow:global_step/sec: 17.9483\n",
      "INFO:tensorflow:loss = 0.042992126, step = 2800 (5.567 sec)\n",
      "INFO:tensorflow:global_step/sec: 17.9045\n",
      "INFO:tensorflow:loss = 0.09748988, step = 2900 (5.585 sec)\n",
      "INFO:tensorflow:global_step/sec: 17.8811\n",
      "INFO:tensorflow:loss = 0.023579352, step = 3000 (5.596 sec)\n",
      "INFO:tensorflow:global_step/sec: 17.9482\n",
      "INFO:tensorflow:loss = 0.030720463, step = 3100 (5.568 sec)\n",
      "INFO:tensorflow:global_step/sec: 17.9057\n",
      "INFO:tensorflow:loss = 0.013843921, step = 3200 (5.588 sec)\n",
      "INFO:tensorflow:global_step/sec: 17.9296\n",
      "INFO:tensorflow:loss = 0.011006426, step = 3300 (5.574 sec)\n",
      "INFO:tensorflow:global_step/sec: 17.8759\n",
      "INFO:tensorflow:loss = 0.012870647, step = 3400 (5.595 sec)\n",
      "INFO:tensorflow:global_step/sec: 17.941\n",
      "INFO:tensorflow:loss = 0.009481016, step = 3500 (5.576 sec)\n",
      "INFO:tensorflow:global_step/sec: 17.8437\n",
      "INFO:tensorflow:loss = 0.0071053617, step = 3600 (5.604 sec)\n",
      "INFO:tensorflow:global_step/sec: 17.9127\n",
      "INFO:tensorflow:loss = 0.011588283, step = 3700 (5.583 sec)\n",
      "INFO:tensorflow:global_step/sec: 17.9286\n",
      "INFO:tensorflow:loss = 0.008153492, step = 3800 (5.574 sec)\n",
      "INFO:tensorflow:global_step/sec: 17.8956\n",
      "INFO:tensorflow:loss = 0.008045183, step = 3900 (5.589 sec)\n",
      "INFO:tensorflow:global_step/sec: 17.8809\n",
      "INFO:tensorflow:loss = 0.007727896, step = 4000 (5.596 sec)\n",
      "INFO:tensorflow:global_step/sec: 17.9263\n",
      "INFO:tensorflow:loss = 0.005720447, step = 4100 (5.578 sec)\n",
      "INFO:tensorflow:global_step/sec: 17.8755\n",
      "INFO:tensorflow:loss = 0.0058375048, step = 4200 (5.591 sec)\n",
      "INFO:tensorflow:global_step/sec: 17.8954\n",
      "INFO:tensorflow:loss = 0.005596304, step = 4300 (5.591 sec)\n",
      "INFO:tensorflow:global_step/sec: 17.8918\n",
      "INFO:tensorflow:loss = 0.0061704013, step = 4400 (5.586 sec)\n",
      "INFO:tensorflow:global_step/sec: 17.825\n",
      "INFO:tensorflow:loss = 0.0040693916, step = 4500 (5.611 sec)\n",
      "INFO:tensorflow:global_step/sec: 17.8979\n",
      "INFO:tensorflow:loss = 0.0036383888, step = 4600 (5.587 sec)\n",
      "INFO:tensorflow:global_step/sec: 17.8378\n",
      "INFO:tensorflow:loss = 0.0043637776, step = 4700 (5.604 sec)\n",
      "INFO:tensorflow:global_step/sec: 17.9014\n",
      "INFO:tensorflow:loss = 0.0035322257, step = 4800 (5.590 sec)\n",
      "INFO:tensorflow:global_step/sec: 17.8786\n",
      "INFO:tensorflow:loss = 0.0038577018, step = 4900 (5.590 sec)\n",
      "INFO:tensorflow:global_step/sec: 17.9399\n",
      "INFO:tensorflow:loss = 0.0034909167, step = 5000 (5.574 sec)\n",
      "INFO:tensorflow:global_step/sec: 17.9689\n",
      "INFO:tensorflow:loss = 0.0033573725, step = 5100 (5.565 sec)\n",
      "INFO:tensorflow:global_step/sec: 17.9164\n",
      "INFO:tensorflow:loss = 0.004015495, step = 5200 (5.581 sec)\n",
      "INFO:tensorflow:global_step/sec: 17.889\n",
      "INFO:tensorflow:loss = 0.0033268272, step = 5300 (5.594 sec)\n",
      "INFO:tensorflow:global_step/sec: 17.9101\n",
      "INFO:tensorflow:loss = 0.0025187398, step = 5400 (5.583 sec)\n",
      "INFO:tensorflow:global_step/sec: 17.9092\n",
      "INFO:tensorflow:loss = 0.0030544775, step = 5500 (5.580 sec)\n",
      "INFO:tensorflow:global_step/sec: 17.9132\n",
      "INFO:tensorflow:loss = 0.004146241, step = 5600 (5.587 sec)\n",
      "INFO:tensorflow:global_step/sec: 17.9175\n",
      "INFO:tensorflow:loss = 0.0029111782, step = 5700 (5.580 sec)\n",
      "INFO:tensorflow:global_step/sec: 17.8561\n",
      "INFO:tensorflow:loss = 0.0033093279, step = 5800 (5.599 sec)\n",
      "INFO:tensorflow:global_step/sec: 17.8871\n",
      "INFO:tensorflow:loss = 0.0026210109, step = 5900 (5.589 sec)\n",
      "INFO:tensorflow:global_step/sec: 17.9181\n",
      "INFO:tensorflow:loss = 0.0031230205, step = 6000 (5.583 sec)\n",
      "INFO:tensorflow:global_step/sec: 17.9343\n",
      "INFO:tensorflow:loss = 0.0028313294, step = 6100 (5.577 sec)\n",
      "INFO:tensorflow:global_step/sec: 17.9156\n",
      "INFO:tensorflow:loss = 0.003467738, step = 6200 (5.580 sec)\n",
      "INFO:tensorflow:global_step/sec: 17.8502\n",
      "INFO:tensorflow:loss = 0.0029851706, step = 6300 (5.603 sec)\n",
      "INFO:tensorflow:global_step/sec: 17.9119\n",
      "INFO:tensorflow:loss = 0.0028072204, step = 6400 (5.580 sec)\n",
      "INFO:tensorflow:global_step/sec: 17.9168\n",
      "INFO:tensorflow:loss = 0.0031056376, step = 6500 (5.583 sec)\n",
      "INFO:tensorflow:global_step/sec: 17.8565\n",
      "INFO:tensorflow:loss = 0.002147519, step = 6600 (5.599 sec)\n",
      "INFO:tensorflow:global_step/sec: 17.8997\n",
      "INFO:tensorflow:loss = 0.0023563523, step = 6700 (5.589 sec)\n",
      "INFO:tensorflow:global_step/sec: 17.8994\n",
      "INFO:tensorflow:loss = 0.0023830137, step = 6800 (5.587 sec)\n",
      "INFO:tensorflow:global_step/sec: 17.8461\n",
      "INFO:tensorflow:loss = 0.00238409, step = 6900 (5.601 sec)\n",
      "INFO:tensorflow:global_step/sec: 17.9199\n",
      "INFO:tensorflow:loss = 0.002324758, step = 7000 (5.581 sec)\n",
      "INFO:tensorflow:global_step/sec: 17.8976\n",
      "INFO:tensorflow:loss = 0.0022062222, step = 7100 (5.589 sec)\n",
      "INFO:tensorflow:global_step/sec: 17.9344\n",
      "INFO:tensorflow:loss = 0.0018000682, step = 7200 (5.577 sec)\n",
      "INFO:tensorflow:global_step/sec: 17.896\n",
      "INFO:tensorflow:loss = 0.002433498, step = 7300 (5.588 sec)\n",
      "INFO:tensorflow:global_step/sec: 17.8743\n",
      "INFO:tensorflow:loss = 0.002340746, step = 7400 (5.594 sec)\n",
      "INFO:tensorflow:global_step/sec: 17.8866\n",
      "INFO:tensorflow:loss = 0.001943637, step = 7500 (5.589 sec)\n",
      "INFO:tensorflow:global_step/sec: 17.8953\n",
      "INFO:tensorflow:loss = 0.0018672448, step = 7600 (5.588 sec)\n",
      "INFO:tensorflow:global_step/sec: 17.926\n",
      "INFO:tensorflow:loss = 0.0022189012, step = 7700 (5.577 sec)\n",
      "INFO:tensorflow:global_step/sec: 17.9035\n",
      "INFO:tensorflow:loss = 0.0021075585, step = 7800 (5.586 sec)\n",
      "INFO:tensorflow:global_step/sec: 17.9245\n",
      "INFO:tensorflow:loss = 0.0017068437, step = 7900 (5.578 sec)\n",
      "INFO:tensorflow:global_step/sec: 17.8537\n",
      "INFO:tensorflow:loss = 0.002238703, step = 8000 (5.602 sec)\n",
      "INFO:tensorflow:global_step/sec: 17.9311\n",
      "INFO:tensorflow:loss = 0.0015664477, step = 8100 (5.576 sec)\n",
      "INFO:tensorflow:global_step/sec: 17.927\n",
      "INFO:tensorflow:loss = 0.0015350591, step = 8200 (5.579 sec)\n",
      "INFO:tensorflow:global_step/sec: 17.9086\n",
      "INFO:tensorflow:loss = 0.0017698127, step = 8300 (5.588 sec)\n",
      "INFO:tensorflow:global_step/sec: 17.9067\n",
      "INFO:tensorflow:loss = 0.0017644272, step = 8400 (5.585 sec)\n",
      "INFO:tensorflow:global_step/sec: 17.901\n",
      "INFO:tensorflow:loss = 0.0017649697, step = 8500 (5.583 sec)\n",
      "INFO:tensorflow:global_step/sec: 17.9166\n",
      "INFO:tensorflow:loss = 0.0015750619, step = 8600 (5.581 sec)\n",
      "INFO:tensorflow:global_step/sec: 17.97\n",
      "INFO:tensorflow:loss = 0.0017812477, step = 8700 (5.567 sec)\n",
      "INFO:tensorflow:global_step/sec: 17.915\n",
      "INFO:tensorflow:loss = 0.0016491569, step = 8800 (5.580 sec)\n",
      "INFO:tensorflow:global_step/sec: 17.9096\n",
      "INFO:tensorflow:loss = 0.0016261154, step = 8900 (5.583 sec)\n",
      "INFO:tensorflow:global_step/sec: 17.9157\n",
      "INFO:tensorflow:loss = 0.0013803812, step = 9000 (5.582 sec)\n",
      "INFO:tensorflow:global_step/sec: 17.8517\n",
      "INFO:tensorflow:loss = 0.0015666928, step = 9100 (5.601 sec)\n",
      "INFO:tensorflow:global_step/sec: 17.9307\n",
      "INFO:tensorflow:loss = 0.0015610176, step = 9200 (5.581 sec)\n",
      "INFO:tensorflow:global_step/sec: 17.9274\n",
      "INFO:tensorflow:loss = 0.0015720209, step = 9300 (5.576 sec)\n",
      "INFO:tensorflow:global_step/sec: 17.9637\n",
      "INFO:tensorflow:loss = 0.0013040936, step = 9400 (5.568 sec)\n",
      "INFO:tensorflow:global_step/sec: 17.9546\n",
      "INFO:tensorflow:loss = 0.001478905, step = 9500 (5.571 sec)\n",
      "INFO:tensorflow:global_step/sec: 17.9218\n",
      "INFO:tensorflow:loss = 0.0017108318, step = 9600 (5.575 sec)\n",
      "INFO:tensorflow:global_step/sec: 17.9566\n",
      "INFO:tensorflow:loss = 0.0015332774, step = 9700 (5.571 sec)\n",
      "INFO:tensorflow:global_step/sec: 17.9173\n",
      "INFO:tensorflow:loss = 0.0016231462, step = 9800 (5.584 sec)\n",
      "INFO:tensorflow:global_step/sec: 17.9323\n",
      "INFO:tensorflow:loss = 0.0014372888, step = 9900 (5.572 sec)\n",
      "INFO:tensorflow:global_step/sec: 18.0193\n",
      "INFO:tensorflow:loss = 0.0014202796, step = 10000 (5.553 sec)\n",
      "INFO:tensorflow:global_step/sec: 17.9564\n",
      "INFO:tensorflow:loss = 0.0014277531, step = 10100 (5.566 sec)\n",
      "INFO:tensorflow:global_step/sec: 17.9716\n",
      "INFO:tensorflow:loss = 0.0012335335, step = 10200 (5.564 sec)\n",
      "INFO:tensorflow:global_step/sec: 18.01\n",
      "INFO:tensorflow:loss = 0.0013051382, step = 10300 (5.552 sec)\n",
      "INFO:tensorflow:global_step/sec: 18.0029\n",
      "INFO:tensorflow:loss = 0.0013217746, step = 10400 (5.555 sec)\n",
      "INFO:tensorflow:global_step/sec: 17.9353\n",
      "INFO:tensorflow:loss = 0.0014228863, step = 10500 (5.577 sec)\n",
      "INFO:tensorflow:global_step/sec: 17.9722\n",
      "INFO:tensorflow:loss = 0.0010441823, step = 10600 (5.565 sec)\n",
      "INFO:tensorflow:global_step/sec: 17.9181\n",
      "INFO:tensorflow:loss = 0.001408173, step = 10700 (5.578 sec)\n",
      "INFO:tensorflow:Saving checkpoints for 10750 into /tmp/tmpdjjbzlde/model.ckpt.\n",
      "INFO:tensorflow:global_step/sec: 12.2964\n",
      "INFO:tensorflow:loss = 0.0012707182, step = 10800 (8.133 sec)\n",
      "INFO:tensorflow:global_step/sec: 17.9436\n",
      "INFO:tensorflow:loss = 0.001513122, step = 10900 (5.576 sec)\n",
      "INFO:tensorflow:Saving checkpoints for 11000 into /tmp/tmpdjjbzlde/model.ckpt.\n",
      "INFO:tensorflow:Loss for final step: 0.0010115133.\n"
     ]
    },
    {
     "data": {
      "text/plain": [
       "SKCompat()"
      ]
     },
     "execution_count": 14,
     "metadata": {
      "tags": []
     },
     "output_type": "execute_result"
    }
   ],
   "source": [
    "config = tf.contrib.learn.RunConfig(tf_random_seed=42)\n",
    "# set the random seed for tensorflow initializers(for consistency between reruns)\n",
    "\n",
    "feature_columns = tf.contrib.learn.infer_real_valued_columns_from_input(X_train_s)\n",
    "dnn_clf_opt = tf.contrib.learn.DNNClassifier(hidden_units=[7000,6000], n_classes=10,\n",
    "                                         feature_columns=feature_columns, config=config)\n",
    "dnn_clf_opt = tf.contrib.learn.SKCompat(dnn_clf_opt) # if TensorFlow >= 1.1\n",
    "dnn_clf_opt.fit(X_train_s, y_train, batch_size=200, steps=10*1100)"
   ]
  },
  {
   "cell_type": "markdown",
   "metadata": {
    "colab_type": "text",
    "id": "XZby0g4oh7Ka"
   },
   "source": [
    "**THE FINAL TEST ACCURACY**"
   ]
  },
  {
   "cell_type": "code",
   "execution_count": 15,
   "metadata": {
    "colab": {
     "base_uri": "https://localhost:8080/",
     "height": 105
    },
    "colab_type": "code",
    "id": "crLjZQAETsDb",
    "outputId": "f2576028-08cb-49c4-f4b4-221434203ce5"
   },
   "outputs": [
    {
     "name": "stdout",
     "output_type": "stream",
     "text": [
      "INFO:tensorflow:Graph was finalized.\n",
      "INFO:tensorflow:Restoring parameters from /tmp/tmpdjjbzlde/model.ckpt-11000\n",
      "INFO:tensorflow:Running local_init_op.\n",
      "INFO:tensorflow:Done running local_init_op.\n"
     ]
    },
    {
     "data": {
      "text/plain": [
       "0.5896"
      ]
     },
     "execution_count": 15,
     "metadata": {
      "tags": []
     },
     "output_type": "execute_result"
    }
   ],
   "source": [
    "X_test_reshaped = X_test.reshape(10000,3072)\n",
    "X_test_s = scaler.fit_transform(X_test_reshaped.astype(np.float32))\n",
    "y_test_pred = dnn_clf_opt.predict(X_test_s)\n",
    "accuracy_score(Y_test, y_test_pred['classes'])"
   ]
  },
  {
   "cell_type": "code",
   "execution_count": 16,
   "metadata": {
    "colab": {
     "base_uri": "https://localhost:8080/",
     "height": 34
    },
    "colab_type": "code",
    "id": "GZQ8pHL4jLau",
    "outputId": "11437a5f-8be0-43a4-df24-e5520e746c9d"
   },
   "outputs": [
    {
     "data": {
      "text/plain": [
       "numpy.ndarray"
      ]
     },
     "execution_count": 16,
     "metadata": {
      "tags": []
     },
     "output_type": "execute_result"
    }
   ],
   "source": [
    "type(y_test_pred['classes'])"
   ]
  },
  {
   "cell_type": "code",
   "execution_count": 17,
   "metadata": {
    "colab": {
     "base_uri": "https://localhost:8080/",
     "height": 283
    },
    "colab_type": "code",
    "id": "LCnPlt43jmRo",
    "outputId": "19b2a220-63cf-42fa-c2b0-7468bc3c8beb"
   },
   "outputs": [
    {
     "name": "stdout",
     "output_type": "stream",
     "text": [
      "             precision    recall  f1-score   support\n",
      "\n",
      "          0       0.66      0.70      0.68      1000\n",
      "          1       0.72      0.66      0.69      1000\n",
      "          2       0.49      0.46      0.48      1000\n",
      "          3       0.41      0.40      0.41      1000\n",
      "          4       0.51      0.50      0.51      1000\n",
      "          5       0.51      0.49      0.50      1000\n",
      "          6       0.60      0.67      0.63      1000\n",
      "          7       0.64      0.65      0.64      1000\n",
      "          8       0.70      0.73      0.71      1000\n",
      "          9       0.63      0.63      0.63      1000\n",
      "\n",
      "avg / total       0.59      0.59      0.59     10000\n",
      "\n"
     ]
    }
   ],
   "source": [
    "from sklearn.metrics import classification_report\n",
    "from sklearn.metrics import confusion_matrix\n",
    "print(classification_report(Y_test,y_test_pred['classes']))"
   ]
  },
  {
   "cell_type": "markdown",
   "metadata": {
    "colab_type": "text",
    "id": "qpBpOG0QiHUh"
   },
   "source": [
    "**CONFUSION MATRIX**"
   ]
  },
  {
   "cell_type": "code",
   "execution_count": 18,
   "metadata": {
    "colab": {
     "base_uri": "https://localhost:8080/",
     "height": 34
    },
    "colab_type": "code",
    "id": "lNigqyJSliRj",
    "outputId": "6b356531-2a82-447c-f953-79fa30aca636"
   },
   "outputs": [
    {
     "data": {
      "text/plain": [
       "(10, 10)"
      ]
     },
     "execution_count": 18,
     "metadata": {
      "tags": []
     },
     "output_type": "execute_result"
    }
   ],
   "source": [
    "conf_mx_DNN_1L = confusion_matrix(Y_test, y_test_pred['classes'])\n",
    "\n",
    "\n",
    "\n",
    "row_sum = np.sum(conf_mx_DNN_1L, axis =1, keepdims = True)\n",
    "norm_conf_mx_DNN_1L = conf_mx_DNN_1L / row_sum\n",
    "norm_conf_mx_DNN_1L.shape"
   ]
  },
  {
   "cell_type": "code",
   "execution_count": 19,
   "metadata": {
    "colab": {
     "base_uri": "https://localhost:8080/",
     "height": 448
    },
    "colab_type": "code",
    "id": "gyN5xYpCmGRi",
    "outputId": "bb1690b2-7f1c-43d6-e997-ef08c75859c8"
   },
   "outputs": [
    {
     "name": "stdout",
     "output_type": "stream",
     "text": [
      "[[0.    0.018 0.039 0.016 0.029 0.013 0.026 0.021 0.091 0.047]\n",
      " [0.034 0.    0.021 0.022 0.014 0.016 0.016 0.02  0.064 0.132]\n",
      " [0.082 0.014 0.    0.086 0.116 0.06  0.088 0.054 0.021 0.02 ]\n",
      " [0.03  0.01  0.078 0.    0.072 0.182 0.119 0.056 0.02  0.033]\n",
      " [0.043 0.006 0.114 0.067 0.    0.048 0.095 0.085 0.02  0.023]\n",
      " [0.016 0.005 0.075 0.189 0.072 0.    0.056 0.06  0.014 0.018]\n",
      " [0.007 0.015 0.062 0.086 0.063 0.053 0.    0.014 0.014 0.014]\n",
      " [0.028 0.003 0.047 0.058 0.066 0.081 0.019 0.    0.012 0.038]\n",
      " [0.084 0.05  0.016 0.022 0.022 0.012 0.01  0.011 0.    0.045]\n",
      " [0.035 0.131 0.02  0.029 0.016 0.019 0.021 0.041 0.054 0.   ]]\n"
     ]
    },
    {
     "data": {
      "image/png": "[encoded data removed]",
      "text/plain": [
       "<matplotlib.figure.Figure at 0x7f46b13e73c8>"
      ]
     },
     "metadata": {
      "tags": []
     },
     "output_type": "display_data"
    }
   ],
   "source": [
    "np.fill_diagonal(norm_conf_mx_DNN_1L, 0)\n",
    "plt.matshow(norm_conf_mx_DNN_1L, cmap = plt.cm.Reds)\n",
    "\n",
    "print(norm_conf_mx_DNN_1L)"
   ]
  },
  {
   "cell_type": "code",
   "execution_count": 0,
   "metadata": {
    "colab": {},
    "colab_type": "code",
    "id": "sCVfe6ddmi2l"
   },
   "outputs": [],
   "source": []
  }
 ],
 "metadata": {
  "accelerator": "GPU",
  "colab": {
   "collapsed_sections": [],
   "name": "FinalValues.ipynb",
   "provenance": [],
   "version": "0.3.2"
  },
  "kernelspec": {
   "display_name": "Python 3",
   "language": "python",
   "name": "python3"
  },
  "language_info": {
   "codemirror_mode": {
    "name": "ipython",
    "version": 3
   },
   "file_extension": ".py",
   "mimetype": "text/x-python",
   "name": "python",
   "nbconvert_exporter": "python",
   "pygments_lexer": "ipython3",
   "version": "3.6.5"
  }
 },
 "nbformat": 4,
 "nbformat_minor": 1
}
